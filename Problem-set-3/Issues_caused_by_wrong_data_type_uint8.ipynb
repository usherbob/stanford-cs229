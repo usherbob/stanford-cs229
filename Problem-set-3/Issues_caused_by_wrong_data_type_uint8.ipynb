{
 "cells": [
  {
   "cell_type": "code",
   "execution_count": 3,
   "metadata": {
    "collapsed": true
   },
   "outputs": [],
   "source": [
    "from matplotlib.image import imread\n",
    "import matplotlib.pyplot as plt\n",
    "import numpy as np\n",
    "%matplotlib inline"
   ]
  },
  {
   "cell_type": "code",
   "execution_count": 4,
   "metadata": {},
   "outputs": [
    {
     "name": "stdout",
     "output_type": "stream",
     "text": [
      "centroids data type\n",
      "uint8\n",
      "X data type\n",
      "uint8\n",
      "####### a simple test\n",
      "X[4]\n",
      "[135 126  55]\n",
      "centroids[0]\n",
      "[116 149 117]\n",
      "X[4]-centroids[0]\n",
      "[ 19 233 194]\n"
     ]
    }
   ],
   "source": [
    "im_small = imread('C:/data/CS229/ps3/mandrill-small.tiff')\n",
    "X = im_small.reshape(-1,3)\n",
    "X.shape\n",
    "num_clusters = 16\n",
    "_idxes = np.random.choice(np.arange(X.shape[0]), size=num_clusters, replace=False)\n",
    "centroids = X[_idxes]\n",
    "print('centroids data type')\n",
    "print(centroids.dtype)\n",
    "print('X data type')\n",
    "print(X.dtype)\n",
    "print('####### a simple test')\n",
    "print('X[4]')\n",
    "print(X[4])\n",
    "print('centroids[0]')\n",
    "print(centroids[0])\n",
    "print('X[4]-centroids[0]')\n",
    "print(X[4]-centroids[0])"
   ]
  },
  {
   "cell_type": "code",
   "execution_count": null,
   "metadata": {
    "collapsed": true
   },
   "outputs": [],
   "source": []
  }
 ],
 "metadata": {
  "kernelspec": {
   "display_name": "Python 3",
   "language": "python",
   "name": "python3"
  },
  "language_info": {
   "codemirror_mode": {
    "name": "ipython",
    "version": 3
   },
   "file_extension": ".py",
   "mimetype": "text/x-python",
   "name": "python",
   "nbconvert_exporter": "python",
   "pygments_lexer": "ipython3",
   "version": "3.5.5"
  }
 },
 "nbformat": 4,
 "nbformat_minor": 2
}
